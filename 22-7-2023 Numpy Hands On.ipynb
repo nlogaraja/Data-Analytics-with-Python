{
 "cells": [
  {
   "cell_type": "markdown",
   "id": "255b50b5",
   "metadata": {},
   "source": [
    "## Numpy Hands On"
   ]
  },
  {
   "cell_type": "markdown",
   "id": "2c4b7085",
   "metadata": {},
   "source": [
    "1. Create a numpy array with numpy.array module and with a data type integer and float.\n"
   ]
  },
  {
   "cell_type": "code",
   "execution_count": 1,
   "id": "b1d01a62",
   "metadata": {},
   "outputs": [],
   "source": [
    "import numpy as np"
   ]
  },
  {
   "cell_type": "code",
   "execution_count": 7,
   "id": "27bad57e",
   "metadata": {},
   "outputs": [
    {
     "name": "stdout",
     "output_type": "stream",
     "text": [
      "int32\n",
      "float64\n"
     ]
    }
   ],
   "source": [
    "# 1\n",
    "\n",
    "arr1=np.array([1,2,3,4])\n",
    "arr2=np.array([1.2,2.0,3.4])\n",
    "\n",
    "print(arr1.dtype)\n",
    "print(arr2.dtype)"
   ]
  },
  {
   "cell_type": "code",
   "execution_count": 12,
   "id": "b6ff8396",
   "metadata": {},
   "outputs": [
    {
     "name": "stdout",
     "output_type": "stream",
     "text": [
      "int32\n",
      "float64\n"
     ]
    },
    {
     "data": {
      "text/plain": [
       "array([1., 2., 3.])"
      ]
     },
     "execution_count": 12,
     "metadata": {},
     "output_type": "execute_result"
    }
   ],
   "source": [
    "# 2\n",
    "\n",
    "arr1=np.array([1,2,3,4], dtype='int')\n",
    "arr2=np.array([1,2,3], dtype='float')\n",
    "\n",
    "print(arr1.dtype)\n",
    "print(arr2.dtype)\n",
    "\n",
    "arr2"
   ]
  },
  {
   "cell_type": "markdown",
   "id": "f5a3261e",
   "metadata": {},
   "source": [
    "2. Create numpy arrays that have zero, one, two, three, Four dimensions respectively.\n",
    "Also, print the shape and dimensions of the numpy arrays created above."
   ]
  },
  {
   "cell_type": "code",
   "execution_count": 21,
   "id": "fb66309f",
   "metadata": {},
   "outputs": [
    {
     "name": "stdout",
     "output_type": "stream",
     "text": [
      "0\n",
      "1\n"
     ]
    }
   ],
   "source": [
    "a0 = np.array(1) \n",
    "print(np.ndim(a0))\n",
    "\n",
    "a1 =np.array([1,2,3,4,5])\n",
    "print(np.ndim(a1))\n",
    "\n",
    "# a2\n",
    "\n",
    "# a3\n",
    "\n",
    "# a4"
   ]
  },
  {
   "cell_type": "code",
   "execution_count": 23,
   "id": "341f8fa6",
   "metadata": {},
   "outputs": [
    {
     "name": "stdout",
     "output_type": "stream",
     "text": [
      "0\n",
      "1\n",
      "1\n",
      "1\n",
      "1\n",
      "[1]\n"
     ]
    }
   ],
   "source": [
    "a0 = np.array(1)\n",
    "print(np.ndim(a0))\n",
    "\n",
    "a1 = np.array([1])\n",
    "print(np.ndim(a1))\n",
    "\n",
    "a2 = np.array([2])\n",
    "print(np.ndim(a2))\n",
    "\n",
    "a3 = np.array([3])\n",
    "print(np.ndim(a3))\n",
    "\n",
    "a4 = np.array([4])\n",
    "print(np.ndim(a4))\n",
    "\n",
    "\n",
    "print(a1)"
   ]
  },
  {
   "cell_type": "code",
   "execution_count": 30,
   "id": "d1cf523d",
   "metadata": {},
   "outputs": [
    {
     "name": "stdout",
     "output_type": "stream",
     "text": [
      "0\n",
      "1\n",
      "2\n",
      "3\n",
      "4\n"
     ]
    }
   ],
   "source": [
    "a0 = np.array(1)\n",
    "print(np.ndim(a0))\n",
    "\n",
    "a1 = np.array([1,2,3])\n",
    "print(np.ndim(a1))\n",
    "\n",
    "a2 = np.array([[1,2],[3,4]])\n",
    "print(np.ndim(a2))\n",
    "\n",
    "a3 = np.array([[[1,2],[3,4],[5,6]]])\n",
    "print(np.ndim(a3))\n",
    "\n",
    "a4 = np.array([[[[1,2],[3,4],[5,6],[7,8]]]])\n",
    "print(np.ndim(a4))\n"
   ]
  },
  {
   "cell_type": "markdown",
   "id": "812b2e8c",
   "metadata": {},
   "source": [
    "3. Create a 2x2, 3x3, and 4x4 identity matrix using numpy."
   ]
  },
  {
   "cell_type": "code",
   "execution_count": 34,
   "id": "c39cac70",
   "metadata": {},
   "outputs": [
    {
     "name": "stdout",
     "output_type": "stream",
     "text": [
      "[[1 0]\n",
      " [0 1]]\n",
      "\n",
      "[[1 0 0]\n",
      " [0 1 0]\n",
      " [0 0 1]]\n",
      "\n",
      "[[1 0 0 0]\n",
      " [0 1 0 0]\n",
      " [0 0 1 0]\n",
      " [0 0 0 1]]\n"
     ]
    }
   ],
   "source": [
    "# 1\n",
    "\n",
    "a2=np.identity(2, dtype='int')\n",
    "print(a2)\n",
    "\n",
    "a3=np.identity(3, dtype='int')\n",
    "print()\n",
    "print(a3)\n",
    "\n",
    "a4=np.identity(4, dtype='int')\n",
    "print()\n",
    "print(a4)\n"
   ]
  },
  {
   "cell_type": "code",
   "execution_count": 35,
   "id": "bded60d8",
   "metadata": {},
   "outputs": [
    {
     "name": "stdout",
     "output_type": "stream",
     "text": [
      "[[1. 0.]\n",
      " [0. 1.]]\n",
      "\n",
      "[[1. 0. 0.]\n",
      " [0. 1. 0.]\n",
      " [0. 0. 1.]]\n",
      "\n",
      "[[1. 0. 0. 0.]\n",
      " [0. 1. 0. 0.]\n",
      " [0. 0. 1. 0.]\n",
      " [0. 0. 0. 1.]]\n"
     ]
    }
   ],
   "source": [
    "# 2\n",
    "\n",
    "a2 = np.identity(2)\n",
    "print(a2)\n",
    "\n",
    "a3 = np.identity(3)\n",
    "print()\n",
    "print(a3)\n",
    "\n",
    "a4 = np.identity(4)\n",
    "print()\n",
    "print(a4)\n"
   ]
  },
  {
   "cell_type": "code",
   "execution_count": 38,
   "id": "d760565d",
   "metadata": {},
   "outputs": [
    {
     "name": "stdout",
     "output_type": "stream",
     "text": [
      "Enter the dimension of identitiy matrix: 7\n",
      "[[1 0 0 0 0 0 0]\n",
      " [0 1 0 0 0 0 0]\n",
      " [0 0 1 0 0 0 0]\n",
      " [0 0 0 1 0 0 0]\n",
      " [0 0 0 0 1 0 0]\n",
      " [0 0 0 0 0 1 0]\n",
      " [0 0 0 0 0 0 1]]\n"
     ]
    }
   ],
   "source": [
    "# 3\n",
    "\n",
    "dimension = int(input(\"Enter the dimension of identitiy matrix: \"))\n",
    "\n",
    "identity_matrix = np.identity(dimension, dtype=\"int\")\n",
    "print(identity_matrix)\n"
   ]
  },
  {
   "cell_type": "markdown",
   "id": "cafcd38c",
   "metadata": {},
   "source": [
    "4. Create a numpy array with shape 2x5 that has all the elements as zero.\n"
   ]
  },
  {
   "cell_type": "code",
   "execution_count": 48,
   "id": "c35974c4",
   "metadata": {},
   "outputs": [
    {
     "name": "stdout",
     "output_type": "stream",
     "text": [
      "[[0. 0. 0. 0. 0.]\n",
      " [0. 0. 0. 0. 0.]]\n"
     ]
    }
   ],
   "source": [
    "arr = np.zeros([2,5])\n",
    "\n",
    "print(arr)"
   ]
  },
  {
   "cell_type": "code",
   "execution_count": 49,
   "id": "cda38977",
   "metadata": {},
   "outputs": [
    {
     "name": "stdout",
     "output_type": "stream",
     "text": [
      "[[0 0 0 0 0]\n",
      " [0 0 0 0 0]]\n"
     ]
    }
   ],
   "source": [
    "arr = np.zeros([2,5], dtype='int')\n",
    "\n",
    "print(arr)"
   ]
  },
  {
   "cell_type": "code",
   "execution_count": 50,
   "id": "f38281cc",
   "metadata": {},
   "outputs": [
    {
     "name": "stdout",
     "output_type": "stream",
     "text": [
      "[[0 0 0 0 0]\n",
      " [0 0 0 0 0]]\n"
     ]
    }
   ],
   "source": [
    "arr1 = np.full([2,5], 0)\n",
    "\n",
    "print(arr1)"
   ]
  },
  {
   "cell_type": "code",
   "execution_count": 53,
   "id": "7616e104",
   "metadata": {},
   "outputs": [
    {
     "name": "stdout",
     "output_type": "stream",
     "text": [
      "Enter no of rows: 5\n",
      "Enter no of columns: 6\n",
      "Enter the element: 5\n",
      "[[5 5 5 5 5 5]\n",
      " [5 5 5 5 5 5]\n",
      " [5 5 5 5 5 5]\n",
      " [5 5 5 5 5 5]\n",
      " [5 5 5 5 5 5]]\n"
     ]
    }
   ],
   "source": [
    "row = int(input('Enter no of rows: '))\n",
    "\n",
    "column = int(input('Enter no of columns: '))\n",
    "\n",
    "n= int(input('Enter the element: '))\n",
    "\n",
    "arr= np.full([row,column], n)\n",
    "\n",
    "print(arr)"
   ]
  },
  {
   "cell_type": "markdown",
   "id": "87f5bc7d",
   "metadata": {},
   "source": [
    "5. Create a numpy array that has the shape 3x5 and all the elements are 5"
   ]
  },
  {
   "cell_type": "code",
   "execution_count": 54,
   "id": "788b59f1",
   "metadata": {},
   "outputs": [
    {
     "name": "stdout",
     "output_type": "stream",
     "text": [
      "[[5 5 5 5 5]\n",
      " [5 5 5 5 5]\n",
      " [5 5 5 5 5]]\n"
     ]
    }
   ],
   "source": [
    "ar = np.full([3,5],5)\n",
    "print(ar)"
   ]
  },
  {
   "cell_type": "code",
   "execution_count": 55,
   "id": "68b7e96a",
   "metadata": {},
   "outputs": [
    {
     "name": "stdout",
     "output_type": "stream",
     "text": [
      "[[5. 5. 5. 5. 5.]\n",
      " [5. 5. 5. 5. 5.]\n",
      " [5. 5. 5. 5. 5.]]\n"
     ]
    }
   ],
   "source": [
    "s2 = np.ones((3,5))*5\n",
    "\n",
    "print(s2)\n"
   ]
  },
  {
   "cell_type": "code",
   "execution_count": 56,
   "id": "1632f452",
   "metadata": {},
   "outputs": [
    {
     "name": "stdout",
     "output_type": "stream",
     "text": [
      "Enter no of rows: 3\n",
      "Enter no of columns: 5\n",
      "Enter the element: 5\n",
      "[[5 5 5 5 5]\n",
      " [5 5 5 5 5]\n",
      " [5 5 5 5 5]]\n"
     ]
    }
   ],
   "source": [
    "row = int(input('Enter no of rows: '))\n",
    "\n",
    "column = int(input('Enter no of columns: '))\n",
    "\n",
    "n= int(input('Enter the element: '))\n",
    "\n",
    "arr= np.full([row,column], n)\n",
    "\n",
    "print(arr)"
   ]
  },
  {
   "cell_type": "markdown",
   "id": "ed66753b",
   "metadata": {},
   "source": [
    "6. Create a numpy array with random integers in the range 0-100, and the sample size\n",
    "should be 25.\n"
   ]
  },
  {
   "cell_type": "code",
   "execution_count": 60,
   "id": "1a58e6e6",
   "metadata": {},
   "outputs": [
    {
     "name": "stdout",
     "output_type": "stream",
     "text": [
      "[ 9 79 63 26 58 49 14 39 42 96 33 52 74 71  6 77  3 67 92 51  6 94  9 88\n",
      " 43]\n",
      "25\n"
     ]
    }
   ],
   "source": [
    "arr = np.random.randint(0,101,size=25)\n",
    "print(arr)\n",
    "print(len(arr))"
   ]
  },
  {
   "cell_type": "markdown",
   "id": "82ebe1e1",
   "metadata": {},
   "source": [
    "7. Create a numpy array with a shape 3x3 that has all elements as 1."
   ]
  },
  {
   "cell_type": "code",
   "execution_count": 62,
   "id": "e3611c9d",
   "metadata": {},
   "outputs": [
    {
     "name": "stdout",
     "output_type": "stream",
     "text": [
      "[[1 1 1]\n",
      " [1 1 1]\n",
      " [1 1 1]]\n"
     ]
    }
   ],
   "source": [
    "# 1\n",
    "\n",
    "arr = np.ones([3,3], dtype='int')\n",
    "print(arr)"
   ]
  },
  {
   "cell_type": "code",
   "execution_count": 63,
   "id": "63e74c35",
   "metadata": {},
   "outputs": [
    {
     "name": "stdout",
     "output_type": "stream",
     "text": [
      "[[1 1 1]\n",
      " [1 1 1]\n",
      " [1 1 1]]\n"
     ]
    }
   ],
   "source": [
    "# 2\n",
    "\n",
    "arr = np.full([3,3], 1)\n",
    "print(arr)"
   ]
  },
  {
   "cell_type": "markdown",
   "id": "4d7e8528",
   "metadata": {},
   "source": [
    "8. Create a numpy array in the shape 2x3 with random integers in the range 0-100.\n",
    "Reshape the array in the shape 3x2 and print the updated shape of the resultant array."
   ]
  },
  {
   "cell_type": "code",
   "execution_count": 74,
   "id": "68da2a99",
   "metadata": {},
   "outputs": [
    {
     "name": "stdout",
     "output_type": "stream",
     "text": [
      "[[57 32 82]\n",
      " [77 10 90]]\n",
      "\n",
      "[[57 32]\n",
      " [82 77]\n",
      " [10 90]]\n"
     ]
    }
   ],
   "source": [
    "# 1\n",
    "\n",
    "arr = np.random.randint(0,101, size=[2,3])\n",
    "print(arr)\n",
    "print()\n",
    "\n",
    "arr1=arr.reshape(3,2)\n",
    "print(arr1)"
   ]
  },
  {
   "cell_type": "code",
   "execution_count": 75,
   "id": "591bb120",
   "metadata": {},
   "outputs": [
    {
     "name": "stdout",
     "output_type": "stream",
     "text": [
      "Enter the no. of rows: 2\n",
      "Enter the no. of columns: 3\n",
      "\n",
      " [[56 41 18]\n",
      " [27 74 55]]\n",
      "\n",
      " [[56 41]\n",
      " [18 27]\n",
      " [74 55]]\n",
      "\n",
      "Shape of resultant array:  (3, 2)\n"
     ]
    }
   ],
   "source": [
    "# 2\n",
    "\n",
    "row = int(input(\"Enter the no. of rows: \"))\n",
    "\n",
    "column = int(input(\"Enter the no. of columns: \"))\n",
    "\n",
    "arr1 = np.random.randint(0,100,(row,column))\n",
    "print(\"\\n\",arr1)\n",
    "\n",
    "arr2 =arr1.reshape(column,row)\n",
    "print(\"\\n\",arr2)\n",
    "\n",
    "print(\"\\nShape of resultant array: \",arr2.shape)\n"
   ]
  },
  {
   "cell_type": "markdown",
   "id": "7a7610b2",
   "metadata": {},
   "source": [
    "9. Create a random array, with the range 0-1000, with a size 50. Perform the\n",
    "following operations on the same.\n",
    "\n",
    "a. Print the first ten elements of the array.\n",
    "\n",
    "b. Print the last ten elements of the array\n",
    "\n",
    "c. Print the elements from the indexes 10-25\n",
    "\n",
    "d. Print the element at the index 22\n",
    "\n",
    "e. Print the array using negative indexing.\n",
    "\n",
    "f. Print the last ten elements of the array, using negative indexing.\n"
   ]
  },
  {
   "cell_type": "code",
   "execution_count": 82,
   "id": "950bb320",
   "metadata": {},
   "outputs": [
    {
     "name": "stdout",
     "output_type": "stream",
     "text": [
      "[266 587  82 384  11 989 645 118 911 842  26 347 938 440 716 114 878 958\n",
      " 246 177 583  87 253 214 279  60 319 198 156 947 510 632 764 591 876 757\n",
      " 418 690 897  47  51 964 658 723 618 590 613 113 308 688]\n"
     ]
    }
   ],
   "source": [
    "randarr = np.random.randint(0,1001, size=50)\n",
    "print(randarr)\n",
    "\n"
   ]
  },
  {
   "cell_type": "code",
   "execution_count": null,
   "id": "cade68b0",
   "metadata": {},
   "outputs": [],
   "source": []
  },
  {
   "cell_type": "code",
   "execution_count": 83,
   "id": "b10171b1",
   "metadata": {},
   "outputs": [
    {
     "name": "stdout",
     "output_type": "stream",
     "text": [
      "[266 587  82 384  11 989 645 118 911 842]\n"
     ]
    }
   ],
   "source": [
    "# a. Print the first ten elements of the array.\n",
    "\n",
    "print(randarr[0:10])\n"
   ]
  },
  {
   "cell_type": "code",
   "execution_count": 84,
   "id": "02f2b5f6",
   "metadata": {},
   "outputs": [
    {
     "name": "stdout",
     "output_type": "stream",
     "text": [
      "[ 51 964 658 723 618 590 613 113 308 688]\n"
     ]
    }
   ],
   "source": [
    "# b. Print the last ten elements of the array\n",
    "\n",
    "print(randarr[40:])\n",
    "\n",
    "# print(randarr[-10:])\n"
   ]
  },
  {
   "cell_type": "code",
   "execution_count": 85,
   "id": "6df2e79c",
   "metadata": {},
   "outputs": [
    {
     "name": "stdout",
     "output_type": "stream",
     "text": [
      "[ 26 347 938 440 716 114 878 958 246 177 583  87 253 214 279  60]\n"
     ]
    }
   ],
   "source": [
    "# c. Print the elements from the indexes 10-25\n",
    "\n",
    "print(randarr[10:26])\n"
   ]
  },
  {
   "cell_type": "code",
   "execution_count": 86,
   "id": "7427085a",
   "metadata": {},
   "outputs": [
    {
     "name": "stdout",
     "output_type": "stream",
     "text": [
      "253\n"
     ]
    }
   ],
   "source": [
    "# d. Print the element at the index 22\n",
    "\n",
    "print(randarr[22])\n"
   ]
  },
  {
   "cell_type": "code",
   "execution_count": 88,
   "id": "2b6d3c1a",
   "metadata": {},
   "outputs": [
    {
     "name": "stdout",
     "output_type": "stream",
     "text": [
      "[266 587  82 384  11 989 645 118 911 842  26 347 938 440 716 114 878 958\n",
      " 246 177 583  87 253 214 279  60 319 198 156 947 510 632 764 591 876 757\n",
      " 418 690 897  47  51 964 658 723 618 590 613 113 308 688]\n"
     ]
    }
   ],
   "source": [
    "# e. Print the array using negative indexing.\n",
    "\n",
    "print(randarr[-50:])\n"
   ]
  },
  {
   "cell_type": "code",
   "execution_count": 89,
   "id": "f7c556df",
   "metadata": {},
   "outputs": [
    {
     "name": "stdout",
     "output_type": "stream",
     "text": [
      "[ 51 964 658 723 618 590 613 113 308 688]\n"
     ]
    }
   ],
   "source": [
    "# f. Print the last ten elements of the array, using negative indexing.\n",
    "\n",
    "print(randarr[-10:])"
   ]
  },
  {
   "cell_type": "markdown",
   "id": "f676496f",
   "metadata": {},
   "source": [
    "10. Given a numpy array that has values = [1,2,3,4,5]. Perform the following operations.\n",
    "\n",
    "a. Insert the element 6 at the end of the array.\n",
    "\n",
    "b. Insert the element 10 at the beginning of the array.\n",
    "\n",
    "c. Insert the element 30, before 4.\n",
    "\n",
    "d. Update the element 5 as 50.\n",
    "\n",
    "e. Delete the element 50 in the updated array.\n",
    "\n",
    "f. Create a function to search for the element 30.\n",
    "\n",
    "g. Sort the array in ascending order"
   ]
  },
  {
   "cell_type": "code",
   "execution_count": 97,
   "id": "1412ff43",
   "metadata": {},
   "outputs": [
    {
     "name": "stdout",
     "output_type": "stream",
     "text": [
      "[1 2 3 4 5]\n"
     ]
    }
   ],
   "source": [
    "arr = np.array([1,2,3,4,5])\n",
    "print(arr)"
   ]
  },
  {
   "cell_type": "code",
   "execution_count": null,
   "id": "6c9468c0",
   "metadata": {},
   "outputs": [],
   "source": [
    "np.append()\n",
    "np.insert()\n",
    "np.delete()\n",
    ".sort()"
   ]
  },
  {
   "cell_type": "code",
   "execution_count": 98,
   "id": "790a5ad7",
   "metadata": {},
   "outputs": [],
   "source": [
    "# a. Insert the element 6 at the end of the array.\n",
    "\n",
    "arr=np.append(arr, 6)"
   ]
  },
  {
   "cell_type": "code",
   "execution_count": 99,
   "id": "09684e84",
   "metadata": {},
   "outputs": [
    {
     "data": {
      "text/plain": [
       "array([1, 2, 3, 4, 5, 6])"
      ]
     },
     "execution_count": 99,
     "metadata": {},
     "output_type": "execute_result"
    }
   ],
   "source": [
    "arr"
   ]
  },
  {
   "cell_type": "code",
   "execution_count": 100,
   "id": "8f8ab705",
   "metadata": {},
   "outputs": [
    {
     "name": "stdout",
     "output_type": "stream",
     "text": [
      "[10  1  2  3  4  5  6]\n"
     ]
    }
   ],
   "source": [
    "# b. Insert the element 10 at the beginning of the array.\n",
    "\n",
    "arr=np.insert(arr, 0, 10)\n",
    "print(arr)"
   ]
  },
  {
   "cell_type": "code",
   "execution_count": 101,
   "id": "5ce89c0d",
   "metadata": {},
   "outputs": [
    {
     "name": "stdout",
     "output_type": "stream",
     "text": [
      "[10  1  2  3 30  4  5  6]\n"
     ]
    }
   ],
   "source": [
    "# c. Insert the element 30, before 4.\n",
    "\n",
    "arr=np.insert(arr, 4, 30)\n",
    "print(arr)"
   ]
  },
  {
   "cell_type": "code",
   "execution_count": 103,
   "id": "74985328",
   "metadata": {},
   "outputs": [],
   "source": [
    "# d. Update the element 5 as 50.\n",
    "\n",
    "arr[6] = 50"
   ]
  },
  {
   "cell_type": "code",
   "execution_count": 104,
   "id": "430eb9eb",
   "metadata": {},
   "outputs": [
    {
     "name": "stdout",
     "output_type": "stream",
     "text": [
      "[10  1  2  3 30  4 50  6]\n"
     ]
    }
   ],
   "source": [
    "print(arr)"
   ]
  },
  {
   "cell_type": "code",
   "execution_count": 105,
   "id": "865a5ee2",
   "metadata": {},
   "outputs": [
    {
     "name": "stdout",
     "output_type": "stream",
     "text": [
      "[10  1  2  3 30  4  6]\n"
     ]
    }
   ],
   "source": [
    "# e. Delete the element 50 in the updated array.\n",
    "\n",
    "arr=np.delete(arr, -2)\n",
    "print(arr)"
   ]
  },
  {
   "cell_type": "code",
   "execution_count": 106,
   "id": "3a6b1c66",
   "metadata": {},
   "outputs": [],
   "source": [
    "# f. Create a function to search for the element 30.\n",
    "\n",
    "def search(n):\n",
    "    \n",
    "    for i in range(len(arr)):\n",
    "        if arr[i]==n:\n",
    "            return i"
   ]
  },
  {
   "cell_type": "code",
   "execution_count": 110,
   "id": "9350ce4a",
   "metadata": {},
   "outputs": [
    {
     "name": "stdout",
     "output_type": "stream",
     "text": [
      "Found at index:  4\n"
     ]
    }
   ],
   "source": [
    "index=search(30)\n",
    "\n",
    "print('Found at index: ',index)"
   ]
  },
  {
   "cell_type": "code",
   "execution_count": 116,
   "id": "1e2e4266",
   "metadata": {},
   "outputs": [
    {
     "name": "stdout",
     "output_type": "stream",
     "text": [
      "[ 1  2  3  4  6 10 30]\n"
     ]
    }
   ],
   "source": [
    "# g. Sort the array in ascending order\n",
    "\n",
    "\n",
    "arr.sort()\n",
    "print(arr)"
   ]
  },
  {
   "cell_type": "code",
   "execution_count": 115,
   "id": "84c69140",
   "metadata": {},
   "outputs": [],
   "source": []
  },
  {
   "cell_type": "code",
   "execution_count": null,
   "id": "f496bc06",
   "metadata": {},
   "outputs": [],
   "source": []
  }
 ],
 "metadata": {
  "kernelspec": {
   "display_name": "Python 3 (ipykernel)",
   "language": "python",
   "name": "python3"
  },
  "language_info": {
   "codemirror_mode": {
    "name": "ipython",
    "version": 3
   },
   "file_extension": ".py",
   "mimetype": "text/x-python",
   "name": "python",
   "nbconvert_exporter": "python",
   "pygments_lexer": "ipython3",
   "version": "3.10.9"
  }
 },
 "nbformat": 4,
 "nbformat_minor": 5
}
